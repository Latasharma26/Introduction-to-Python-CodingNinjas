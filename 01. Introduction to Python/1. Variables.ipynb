{
 "cells": [
  {
   "cell_type": "markdown",
   "id": "aa7ac7d1-4fe4-463e-a2d6-d507ded3e107",
   "metadata": {},
   "source": [
    "### Print Helloworld\r\n"
   ]
  },
  {
   "cell_type": "code",
   "execution_count": 1,
   "id": "558fa659-4ba7-4342-bb55-9e5eacf67b81",
   "metadata": {},
   "outputs": [
    {
     "name": "stdout",
     "output_type": "stream",
     "text": [
      "HelloWorld\n",
      "HelloWorld\n"
     ]
    }
   ],
   "source": [
    "print('HelloWorld')\n",
    "print('HelloWorld')"
   ]
  },
  {
   "cell_type": "markdown",
   "id": "352ffaf8-7ed5-4792-aa24-067500860e65",
   "metadata": {},
   "source": [
    "### Variables\r\n"
   ]
  },
  {
   "cell_type": "code",
   "execution_count": 2,
   "id": "c71d30f5-9a06-4e92-95ba-8f3bbf853bd1",
   "metadata": {},
   "outputs": [
    {
     "data": {
      "text/plain": [
       "30"
      ]
     },
     "execution_count": 2,
     "metadata": {},
     "output_type": "execute_result"
    }
   ],
   "source": [
    "a =10\n",
    "b= 20\n",
    "\n",
    "a+b"
   ]
  },
  {
   "cell_type": "code",
   "execution_count": 3,
   "id": "7168c4e3-22e7-41f5-bf19-f5cd7785b1aa",
   "metadata": {},
   "outputs": [
    {
     "name": "stdin",
     "output_type": "stream",
     "text": [
      " 8\n",
      " 9\n"
     ]
    },
    {
     "name": "stdout",
     "output_type": "stream",
     "text": [
      "17\n"
     ]
    }
   ],
   "source": [
    "a = int(input())\n",
    "b=int(input())\n",
    "C = a+b\n",
    "print(C)"
   ]
  },
  {
   "cell_type": "code",
   "execution_count": 4,
   "id": "920b9cda-0a85-4c27-b77a-cc2bd378a635",
   "metadata": {},
   "outputs": [
    {
     "name": "stdout",
     "output_type": "stream",
     "text": [
      "30\n"
     ]
    }
   ],
   "source": [
    "a = 10\n",
    "b = 20\n",
    "\n",
    "sum = a+b\n",
    "print(sum)"
   ]
  },
  {
   "cell_type": "markdown",
   "id": "6e6b0735-386e-4a87-991e-e471246039af",
   "metadata": {},
   "source": [
    "### Variable Check\r\n"
   ]
  },
  {
   "cell_type": "code",
   "execution_count": null,
   "id": "7edf7405-55bb-4a11-a0d5-3deae675aa10",
   "metadata": {},
   "outputs": [],
   "source": [
    "_1qa21 = 10\n",
    "print(_1qa21)\n",
    "#121 = vb"
   ]
  },
  {
   "cell_type": "markdown",
   "id": "a7e70dbb-9578-4f84-962e-46d1003ba66e",
   "metadata": {},
   "source": [
    "### Assigning different types of data to a variable\r\n"
   ]
  },
  {
   "cell_type": "code",
   "execution_count": 5,
   "id": "1737b604-96b8-40e6-853c-f6c68a21d81a",
   "metadata": {},
   "outputs": [
    {
     "name": "stdout",
     "output_type": "stream",
     "text": [
      "abcd\n"
     ]
    }
   ],
   "source": [
    "a = 10\n",
    "a = 20\n",
    "a = 'abcd'\n",
    "print(a)"
   ]
  },
  {
   "cell_type": "code",
   "execution_count": 6,
   "id": "737dfe31-07ce-4ae4-9efb-86c30875160e",
   "metadata": {},
   "outputs": [
    {
     "name": "stdout",
     "output_type": "stream",
     "text": [
      "<class 'str'>\n",
      "<class 'int'>\n"
     ]
    }
   ],
   "source": [
    "a = \"abc\"\n",
    "print(type(a))\n",
    "a = 10\n",
    "print(type(a))"
   ]
  },
  {
   "cell_type": "code",
   "execution_count": 7,
   "id": "fde29bbb-a909-4b15-8081-148ffc96e18d",
   "metadata": {},
   "outputs": [
    {
     "name": "stdout",
     "output_type": "stream",
     "text": [
      "abcd\n"
     ]
    }
   ],
   "source": [
    "x = 10\n",
    "x = \"abcd\"\n",
    "print(x)"
   ]
  },
  {
   "cell_type": "code",
   "execution_count": 8,
   "id": "80e0ee7d-6500-4349-a640-737c63a8de2c",
   "metadata": {},
   "outputs": [
    {
     "data": {
      "text/plain": [
       "int"
      ]
     },
     "execution_count": 8,
     "metadata": {},
     "output_type": "execute_result"
    }
   ],
   "source": [
    "x = \"abcd\"\n",
    "x = 10\n",
    "type(x)"
   ]
  },
  {
   "cell_type": "markdown",
   "id": "c03e7400-798e-4a49-b9a8-a043aa2c0394",
   "metadata": {},
   "source": [
    "## Python Numbers\r\n"
   ]
  },
  {
   "cell_type": "code",
   "execution_count": 9,
   "id": "ca13ff91-a0f2-4e5b-b20d-6aec57d3a825",
   "metadata": {},
   "outputs": [
    {
     "name": "stdout",
     "output_type": "stream",
     "text": [
      "140710111627992\n",
      "140710111627992\n"
     ]
    }
   ],
   "source": [
    "a = 10\n",
    "id(a)\n",
    "b = a + 2-2\n",
    "id(b)\n",
    "print(id(a))\n",
    "print(id(b))"
   ]
  },
  {
   "cell_type": "code",
   "execution_count": null,
   "id": "80ae6c2e-88b8-4a07-9a46-b6417f8747c2",
   "metadata": {},
   "outputs": [],
   "source": []
  }
 ],
 "metadata": {
  "kernelspec": {
   "display_name": "Python 3 (ipykernel)",
   "language": "python",
   "name": "python3"
  },
  "language_info": {
   "codemirror_mode": {
    "name": "ipython",
    "version": 3
   },
   "file_extension": ".py",
   "mimetype": "text/x-python",
   "name": "python",
   "nbconvert_exporter": "python",
   "pygments_lexer": "ipython3",
   "version": "3.12.2"
  }
 },
 "nbformat": 4,
 "nbformat_minor": 5
}
